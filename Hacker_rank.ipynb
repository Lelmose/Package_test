{
 "cells": [
  {
   "cell_type": "code",
   "execution_count": 1,
   "metadata": {},
   "outputs": [],
   "source": [
    "#!/bin/python3\n",
    "\n",
    "import math\n",
    "import os\n",
    "import random\n",
    "import re\n",
    "import sys\n",
    "\n",
    "#\n",
    "# Complete the 'timeConversion' function below.\n",
    "#\n",
    "# The function is expected to return a STRING.\n",
    "# The function accepts STRING s as parameter.\n",
    "#\n"
   ]
  },
  {
   "cell_type": "code",
   "execution_count": 13,
   "metadata": {},
   "outputs": [
    {
     "name": "stdout",
     "output_type": "stream",
     "text": [
      "00:05:45\n"
     ]
    }
   ],
   "source": [
    "\n",
    "def timeConversion(s):\n",
    "    # Write your code here\n",
    "\n",
    "    if s[-2] == 'P':\n",
    "        if int(s[: 2]) >= 12:\n",
    "            s = s[: -2]\n",
    "        else:\n",
    "            hour = int(s[: 2])\n",
    "            hour += 12\n",
    "            s = str(hour) + s[2: -2]\n",
    "    else:\n",
    "        if int(s[: 2]) >= 12:\n",
    "            hour = int(s[: 2])\n",
    "            hour -= 12\n",
    "            s = '0' + str(hour) + s[2: -2]\n",
    "        else:\n",
    "            s = s[: -2]\n",
    "    return s\n",
    "\n",
    "s = '12:05:45AM'\n",
    "print(timeConversion(s))\n"
   ]
  },
  {
   "cell_type": "code",
   "execution_count": 4,
   "metadata": {},
   "outputs": [
    {
     "name": "stdout",
     "output_type": "stream",
     "text": [
      "7\n"
     ]
    }
   ],
   "source": [
    "print(int(s[:2]))"
   ]
  }
 ],
 "metadata": {
  "kernelspec": {
   "display_name": "Python 3.9.7 64-bit",
   "language": "python",
   "name": "python3"
  },
  "language_info": {
   "codemirror_mode": {
    "name": "ipython",
    "version": 3
   },
   "file_extension": ".py",
   "mimetype": "text/x-python",
   "name": "python",
   "nbconvert_exporter": "python",
   "pygments_lexer": "ipython3",
   "version": "3.9.7"
  },
  "orig_nbformat": 4,
  "vscode": {
   "interpreter": {
    "hash": "3faab82a42e0e096120128b34e449211fd34876e37cabaea5d78f651481e094b"
   }
  }
 },
 "nbformat": 4,
 "nbformat_minor": 2
}
